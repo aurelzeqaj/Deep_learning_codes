{
 "cells": [
  {
   "cell_type": "code",
   "execution_count": 1,
   "metadata": {},
   "outputs": [],
   "source": [
    "import json\n",
    "import tensorflow as tf\n",
    "import csv\n",
    "import random \n",
    "import numpy as np\n",
    "\n",
    "from tensorflow.keras.preprocessing.text import Tokenizer\n",
    "from tensorflow.keras.preprocessing.sequence import pad_sequences\n",
    "from tensorflow.keras.utils import to_categorical\n",
    "from tensorflow.keras import regularizers\n",
    "\n",
    "#define parmeters to use for keras\n",
    "embedding_dim = 100\n",
    "max_length = 16\n",
    "trunc_type = 'post'\n",
    "padding_type = 'post'\n",
    "oov_tok = '<00V>'\n",
    "training_size = 160000\n",
    "test_portion = .1\n",
    "\n",
    "corpus = []"
   ]
  },
  {
   "cell_type": "code",
   "execution_count": 2,
   "metadata": {},
   "outputs": [
    {
     "data": {
      "text/plain": [
       "'training_cleaned (2).csv'"
      ]
     },
     "execution_count": 2,
     "metadata": {},
     "output_type": "execute_result"
    }
   ],
   "source": [
    "#import data to process\n",
    "import wget\n",
    "url = 'https://storage.googleapis.com/laurencemoroney-blog.appspot.com/training_cleaned.csv'\n",
    "wget.download(url)"
   ]
  },
  {
   "cell_type": "code",
   "execution_count": 2,
   "metadata": {},
   "outputs": [],
   "source": [
    "num_sentences = 0\n",
    "corpus = []\n",
    "with open(\"training_cleaned.csv\" , encoding=\"utf8\") as csvfile:\n",
    "    reader = csv.reader(csvfile, delimiter=',')\n",
    "    for row in reader:\n",
    "        list_item=[]\n",
    "        list_item.append(row[5])\n",
    "        this_label=row[0]\n",
    "        if this_label=='0':\n",
    "            list_item.append(0)\n",
    "        else:\n",
    "            list_item.append(1)\n",
    "        num_sentences = num_sentences + 1\n",
    "        corpus.append(list_item)"
   ]
  },
  {
   "cell_type": "code",
   "execution_count": 3,
   "metadata": {},
   "outputs": [
    {
     "name": "stdout",
     "output_type": "stream",
     "text": [
      "1600000\n",
      "1600000\n",
      "['my whole body feels itchy and like its on fire ', 0]\n"
     ]
    }
   ],
   "source": [
    "print(num_sentences)\n",
    "print(len(corpus))\n",
    "print((corpus[3]))"
   ]
  },
  {
   "cell_type": "code",
   "execution_count": 4,
   "metadata": {},
   "outputs": [],
   "source": [
    "sentences=[]\n",
    "labels=[]\n",
    "random.shuffle(corpus)\n",
    "for x in range(training_size):\n",
    "    sentences.append(corpus[x][0])\n",
    "    labels.append(corpus[x][1])\n",
    "\n",
    "\n",
    "tokenizer = Tokenizer()\n",
    "tokenizer.fit_on_texts(sentences)\n",
    "\n",
    "word_index = tokenizer.word_index\n",
    "vocab_size=len(word_index)\n",
    "\n",
    "sequences = tokenizer.texts_to_sequences(sentences)\n",
    "padded = pad_sequences(sequences, maxlen=max_length, padding=padding_type, truncating=trunc_type)\n",
    "\n",
    "split = int(test_portion * training_size)\n",
    "\n",
    "test_sequences = padded[0:split]\n",
    "training_sequences = padded[split:training_size]\n",
    "test_labels = labels[0:split]\n",
    "training_labels = labels[split:training_size]"
   ]
  },
  {
   "cell_type": "code",
   "execution_count": 5,
   "metadata": {},
   "outputs": [
    {
     "name": "stdout",
     "output_type": "stream",
     "text": [
      "139081\n",
      "1\n"
     ]
    }
   ],
   "source": [
    "print(vocab_size)\n",
    "print(word_index['i'])"
   ]
  },
  {
   "cell_type": "code",
   "execution_count": 6,
   "metadata": {},
   "outputs": [],
   "source": [
    "#url = 'https://storage.googleapis.com/laurencemoroney-blog.appspot.com/glove.6B.100d.txt'\n",
    "#wget.download(url)\n",
    "\n",
    "embeddings_index = {};\n",
    "with open('glove.6B.100d.txt', encoding=\"utf8\") as f:\n",
    "    for line in f:\n",
    "        values = line.split();\n",
    "        word = values[0];\n",
    "        coefs = np.asarray(values[1:], dtype='float32');\n",
    "        embeddings_index[word] = coefs;\n",
    "\n",
    "embeddings_matrix = np.zeros((vocab_size+1, embedding_dim));\n",
    "for word, i in word_index.items():\n",
    "    embedding_vector = embeddings_index.get(word);\n",
    "    if embedding_vector is not None:\n",
    "        embeddings_matrix[i] = embedding_vector;"
   ]
  },
  {
   "cell_type": "code",
   "execution_count": 7,
   "metadata": {},
   "outputs": [
    {
     "name": "stdout",
     "output_type": "stream",
     "text": [
      "139082\n"
     ]
    }
   ],
   "source": [
    "print(len(embeddings_matrix))"
   ]
  },
  {
   "cell_type": "code",
   "execution_count": 8,
   "metadata": {},
   "outputs": [],
   "source": [
    "model = tf.keras.Sequential([\n",
    "    tf.keras.layers.Embedding(vocab_size+1, embedding_dim, input_length=max_length, weights=[embeddings_matrix], trainable=False),\n",
    "    #tf.keras.layers.Dropout(0.2),\n",
    "    tf.keras.layers.Conv1D(64, 5, activation='relu'),\n",
    "    tf.keras.layers.MaxPooling1D(pool_size=4),\n",
    "    tf.keras.layers.LSTM(64),\n",
    "    tf.keras.layers.Dense(1, activation='sigmoid')\n",
    "])"
   ]
  },
  {
   "cell_type": "code",
   "execution_count": 9,
   "metadata": {},
   "outputs": [
    {
     "name": "stdout",
     "output_type": "stream",
     "text": [
      "Model: \"sequential\"\n",
      "_________________________________________________________________\n",
      "Layer (type)                 Output Shape              Param #   \n",
      "=================================================================\n",
      "embedding (Embedding)        (None, 16, 100)           13908200  \n",
      "_________________________________________________________________\n",
      "conv1d (Conv1D)              (None, 12, 64)            32064     \n",
      "_________________________________________________________________\n",
      "max_pooling1d (MaxPooling1D) (None, 3, 64)             0         \n",
      "_________________________________________________________________\n",
      "unified_lstm (UnifiedLSTM)   (None, 64)                33024     \n",
      "_________________________________________________________________\n",
      "dense (Dense)                (None, 1)                 65        \n",
      "=================================================================\n",
      "Total params: 13,973,353\n",
      "Trainable params: 65,153\n",
      "Non-trainable params: 13,908,200\n",
      "_________________________________________________________________\n"
     ]
    }
   ],
   "source": [
    "model.summary()"
   ]
  },
  {
   "cell_type": "code",
   "execution_count": 10,
   "metadata": {},
   "outputs": [],
   "source": [
    "model.compile(loss='binary_crossentropy', optimizer='adam', metrics=['accuracy'])"
   ]
  },
  {
   "cell_type": "code",
   "execution_count": 11,
   "metadata": {},
   "outputs": [
    {
     "name": "stdout",
     "output_type": "stream",
     "text": [
      "Train on 144000 samples, validate on 16000 samples\n",
      "Epoch 1/50\n",
      "144000/144000 - 22s - loss: 0.5954 - accuracy: 0.6711 - val_loss: 0.5597 - val_accuracy: 0.7093\n",
      "Epoch 2/50\n",
      "144000/144000 - 20s - loss: 0.5256 - accuracy: 0.7320 - val_loss: 0.5480 - val_accuracy: 0.7154\n",
      "Epoch 3/50\n",
      "144000/144000 - 21s - loss: 0.4921 - accuracy: 0.7560 - val_loss: 0.5468 - val_accuracy: 0.7235\n",
      "Epoch 4/50\n",
      "144000/144000 - 20s - loss: 0.4679 - accuracy: 0.7724 - val_loss: 0.5526 - val_accuracy: 0.7185\n",
      "Epoch 5/50\n",
      "144000/144000 - 20s - loss: 0.4491 - accuracy: 0.7844 - val_loss: 0.5569 - val_accuracy: 0.7128\n",
      "Epoch 6/50\n",
      "144000/144000 - 20s - loss: 0.4337 - accuracy: 0.7949 - val_loss: 0.5747 - val_accuracy: 0.7162\n",
      "Epoch 7/50\n",
      "144000/144000 - 19s - loss: 0.4202 - accuracy: 0.8032 - val_loss: 0.5734 - val_accuracy: 0.7103\n",
      "Epoch 8/50\n",
      "144000/144000 - 20s - loss: 0.4083 - accuracy: 0.8091 - val_loss: 0.5881 - val_accuracy: 0.7149\n",
      "Epoch 9/50\n",
      "144000/144000 - 19s - loss: 0.3983 - accuracy: 0.8152 - val_loss: 0.5963 - val_accuracy: 0.7098\n",
      "Epoch 10/50\n",
      "144000/144000 - 20s - loss: 0.3884 - accuracy: 0.8215 - val_loss: 0.6138 - val_accuracy: 0.7070\n",
      "Epoch 11/50\n",
      "144000/144000 - 20s - loss: 0.3795 - accuracy: 0.8257 - val_loss: 0.6490 - val_accuracy: 0.7045\n",
      "Epoch 12/50\n",
      "144000/144000 - 20s - loss: 0.3718 - accuracy: 0.8292 - val_loss: 0.6523 - val_accuracy: 0.7054\n",
      "Epoch 13/50\n",
      "144000/144000 - 21s - loss: 0.3642 - accuracy: 0.8347 - val_loss: 0.6768 - val_accuracy: 0.6999\n",
      "Epoch 14/50\n",
      "144000/144000 - 20s - loss: 0.3583 - accuracy: 0.8370 - val_loss: 0.6580 - val_accuracy: 0.7044\n",
      "Epoch 15/50\n",
      "144000/144000 - 21s - loss: 0.3512 - accuracy: 0.8407 - val_loss: 0.6833 - val_accuracy: 0.7017\n",
      "Epoch 16/50\n",
      "144000/144000 - 19s - loss: 0.3445 - accuracy: 0.8443 - val_loss: 0.6905 - val_accuracy: 0.7014\n",
      "Epoch 17/50\n",
      "144000/144000 - 19s - loss: 0.3385 - accuracy: 0.8467 - val_loss: 0.6897 - val_accuracy: 0.7003\n",
      "Epoch 18/50\n",
      "144000/144000 - 20s - loss: 0.3326 - accuracy: 0.8504 - val_loss: 0.7109 - val_accuracy: 0.7006\n",
      "Epoch 19/50\n",
      "144000/144000 - 19s - loss: 0.3267 - accuracy: 0.8537 - val_loss: 0.7243 - val_accuracy: 0.6973\n",
      "Epoch 20/50\n",
      "144000/144000 - 20s - loss: 0.3212 - accuracy: 0.8568 - val_loss: 0.7692 - val_accuracy: 0.6940\n",
      "Epoch 21/50\n",
      "144000/144000 - 20s - loss: 0.3162 - accuracy: 0.8577 - val_loss: 0.7638 - val_accuracy: 0.6961\n",
      "Epoch 22/50\n",
      "144000/144000 - 20s - loss: 0.3103 - accuracy: 0.8625 - val_loss: 0.7784 - val_accuracy: 0.6960\n",
      "Epoch 23/50\n",
      "144000/144000 - 21s - loss: 0.3049 - accuracy: 0.8642 - val_loss: 0.7874 - val_accuracy: 0.6945\n",
      "Epoch 24/50\n",
      "144000/144000 - 21s - loss: 0.2989 - accuracy: 0.8670 - val_loss: 0.8163 - val_accuracy: 0.6924\n",
      "Epoch 25/50\n",
      "144000/144000 - 21s - loss: 0.2934 - accuracy: 0.8699 - val_loss: 0.8247 - val_accuracy: 0.6931\n",
      "Epoch 26/50\n",
      "144000/144000 - 19s - loss: 0.2885 - accuracy: 0.8722 - val_loss: 0.7973 - val_accuracy: 0.6913\n",
      "Epoch 27/50\n",
      "144000/144000 - 20s - loss: 0.2824 - accuracy: 0.8751 - val_loss: 0.8579 - val_accuracy: 0.6913\n",
      "Epoch 28/50\n",
      "144000/144000 - 20s - loss: 0.2762 - accuracy: 0.8783 - val_loss: 0.8745 - val_accuracy: 0.6874\n",
      "Epoch 29/50\n",
      "144000/144000 - 20s - loss: 0.2698 - accuracy: 0.8817 - val_loss: 0.8812 - val_accuracy: 0.6870\n",
      "Epoch 30/50\n",
      "144000/144000 - 20s - loss: 0.2649 - accuracy: 0.8840 - val_loss: 0.9431 - val_accuracy: 0.6885\n",
      "Epoch 31/50\n",
      "144000/144000 - 19s - loss: 0.2580 - accuracy: 0.8878 - val_loss: 0.9151 - val_accuracy: 0.6867\n",
      "Epoch 32/50\n",
      "144000/144000 - 21s - loss: 0.2523 - accuracy: 0.8906 - val_loss: 1.0190 - val_accuracy: 0.6835\n",
      "Epoch 33/50\n",
      "144000/144000 - 20s - loss: 0.2465 - accuracy: 0.8933 - val_loss: 1.0196 - val_accuracy: 0.6879\n",
      "Epoch 34/50\n",
      "144000/144000 - 21s - loss: 0.2393 - accuracy: 0.8966 - val_loss: 1.0223 - val_accuracy: 0.6830\n",
      "Epoch 35/50\n",
      "144000/144000 - 21s - loss: 0.2331 - accuracy: 0.8992 - val_loss: 1.0786 - val_accuracy: 0.6816\n",
      "Epoch 36/50\n",
      "144000/144000 - 22s - loss: 0.2275 - accuracy: 0.9023 - val_loss: 1.0988 - val_accuracy: 0.6825\n",
      "Epoch 37/50\n",
      "144000/144000 - 21s - loss: 0.2210 - accuracy: 0.9051 - val_loss: 1.1624 - val_accuracy: 0.6836\n",
      "Epoch 38/50\n",
      "144000/144000 - 20s - loss: 0.2145 - accuracy: 0.9081 - val_loss: 1.2484 - val_accuracy: 0.6834\n",
      "Epoch 39/50\n",
      "144000/144000 - 23s - loss: 0.2091 - accuracy: 0.9111 - val_loss: 1.1840 - val_accuracy: 0.6784\n",
      "Epoch 40/50\n",
      "144000/144000 - 20s - loss: 0.2016 - accuracy: 0.9141 - val_loss: 1.3018 - val_accuracy: 0.6813\n",
      "Epoch 41/50\n",
      "144000/144000 - 20s - loss: 0.1959 - accuracy: 0.9164 - val_loss: 1.2352 - val_accuracy: 0.6790\n",
      "Epoch 42/50\n",
      "144000/144000 - 20s - loss: 0.1902 - accuracy: 0.9198 - val_loss: 1.3350 - val_accuracy: 0.6772\n",
      "Epoch 43/50\n",
      "144000/144000 - 20s - loss: 0.1837 - accuracy: 0.9232 - val_loss: 1.3738 - val_accuracy: 0.6789\n",
      "Epoch 44/50\n",
      "144000/144000 - 20s - loss: 0.1784 - accuracy: 0.9258 - val_loss: 1.3844 - val_accuracy: 0.6765\n",
      "Epoch 45/50\n",
      "144000/144000 - 20s - loss: 0.1730 - accuracy: 0.9280 - val_loss: 1.4925 - val_accuracy: 0.6784\n",
      "Epoch 46/50\n",
      "144000/144000 - 20s - loss: 0.1671 - accuracy: 0.9311 - val_loss: 1.4806 - val_accuracy: 0.6811\n",
      "Epoch 47/50\n",
      "144000/144000 - 20s - loss: 0.1625 - accuracy: 0.9322 - val_loss: 1.5177 - val_accuracy: 0.6762\n",
      "Epoch 48/50\n",
      "144000/144000 - 20s - loss: 0.1571 - accuracy: 0.9351 - val_loss: 1.6079 - val_accuracy: 0.6722\n",
      "Epoch 49/50\n",
      "144000/144000 - 20s - loss: 0.1505 - accuracy: 0.9386 - val_loss: 1.7126 - val_accuracy: 0.6759\n",
      "Epoch 50/50\n",
      "144000/144000 - 20s - loss: 0.1473 - accuracy: 0.9388 - val_loss: 1.6980 - val_accuracy: 0.6734\n",
      "Training Complete\n"
     ]
    }
   ],
   "source": [
    "num_epochs = 50\n",
    "\n",
    "training_padded = np.array(training_sequences)\n",
    "training_labels = np.array(training_labels)\n",
    "testing_padded = np.array(test_sequences)\n",
    "testing_labels = np.array(test_labels)\n",
    "\n",
    "history = model.fit(training_padded, training_labels, epochs=num_epochs, validation_data=(testing_padded, testing_labels), verbose=2)\n",
    "\n",
    "print(\"Training Complete\")"
   ]
  },
  {
   "cell_type": "code",
   "execution_count": 13,
   "metadata": {},
   "outputs": [
    {
     "data": {
      "text/plain": [
       "<Figure size 432x288 with 0 Axes>"
      ]
     },
     "execution_count": 13,
     "metadata": {},
     "output_type": "execute_result"
    },
    {
     "data": {
      "image/png": "[encoded data removed]",
      "text/plain": [
       "<Figure size 432x288 with 1 Axes>"
      ]
     },
     "metadata": {
      "needs_background": "light"
     },
     "output_type": "display_data"
    },
    {
     "data": {
      "image/png": "[encoded data removed]",
      "text/plain": [
       "<Figure size 432x288 with 1 Axes>"
      ]
     },
     "metadata": {
      "needs_background": "light"
     },
     "output_type": "display_data"
    },
    {
     "data": {
      "text/plain": [
       "<Figure size 432x288 with 0 Axes>"
      ]
     },
     "metadata": {},
     "output_type": "display_data"
    }
   ],
   "source": [
    "import matplotlib.image  as mpimg\n",
    "import matplotlib.pyplot as plt\n",
    "\n",
    "#-----------------------------------------------------------\n",
    "# Retrieve a list of list results on training and test data\n",
    "# sets for each training epoch\n",
    "#-----------------------------------------------------------\n",
    "acc=history.history['accuracy']\n",
    "val_acc=history.history['val_accuracy']\n",
    "loss=history.history['loss']\n",
    "val_loss=history.history['val_loss']\n",
    "\n",
    "epochs=range(len(acc)) # Get number of epochs\n",
    "\n",
    "#------------------------------------------------\n",
    "# Plot training and validation accuracy per epoch\n",
    "#------------------------------------------------\n",
    "plt.plot(epochs, acc, 'r')\n",
    "plt.plot(epochs, val_acc, 'b')\n",
    "plt.title('Training and validation accuracy')\n",
    "plt.xlabel(\"Epochs\")\n",
    "plt.ylabel(\"Accuracy\")\n",
    "plt.legend([\"Accuracy\", \"Validation Accuracy\"])\n",
    "\n",
    "plt.figure()\n",
    "\n",
    "#------------------------------------------------\n",
    "# Plot training and validation loss per epoch\n",
    "#------------------------------------------------\n",
    "plt.plot(epochs, loss, 'r')\n",
    "plt.plot(epochs, val_loss, 'b')\n",
    "plt.title('Training and validation loss')\n",
    "plt.xlabel(\"Epochs\")\n",
    "plt.ylabel(\"Loss\")\n",
    "plt.legend([\"Loss\", \"Validation Loss\"])\n",
    "\n",
    "plt.figure()\n"
   ]
  },
  {
   "cell_type": "code",
   "execution_count": 14,
   "metadata": {},
   "outputs": [],
   "source": [
    "#define parmeters to use for keras\n",
    "embedding_dim = 100\n",
    "max_length = 16\n",
    "trunc_type = 'post'\n",
    "padding_type = 'post'\n",
    "oov_tok = '<00V>'\n",
    "training_size = 160000\n",
    "test_portion = .2\n",
    "\n",
    "num_sentences = 0\n",
    "corpus = []\n",
    "with open(\"training_cleaned.csv\" , encoding=\"utf8\") as csvfile:\n",
    "    reader = csv.reader(csvfile, delimiter=',')\n",
    "    for row in reader:\n",
    "        list_item=[]\n",
    "        list_item.append(row[5])\n",
    "        this_label=row[0]\n",
    "        if this_label=='0':\n",
    "            list_item.append(0)\n",
    "        else:\n",
    "            list_item.append(1)\n",
    "        num_sentences = num_sentences + 1\n",
    "        corpus.append(list_item)\n",
    "\n",
    "sentences=[]\n",
    "labels=[]\n",
    "random.shuffle(corpus)\n",
    "for x in range(training_size):\n",
    "    sentences.append(corpus[x][0])\n",
    "    labels.append(corpus[x][1])\n",
    "\n",
    "\n",
    "tokenizer = Tokenizer()\n",
    "tokenizer.fit_on_texts(sentences)\n",
    "\n",
    "word_index = tokenizer.word_index\n",
    "vocab_size=len(word_index)\n",
    "\n",
    "sequences = tokenizer.texts_to_sequences(sentences)\n",
    "padded = pad_sequences(sequences, maxlen=max_length, padding=padding_type, truncating=trunc_type)\n",
    "\n",
    "split = int(test_portion * training_size)\n",
    "\n",
    "test_sequences = padded[0:split]\n",
    "training_sequences = padded[split:training_size]\n",
    "test_labels = labels[0:split]\n",
    "training_labels = labels[split:training_size]"
   ]
  },
  {
   "cell_type": "code",
   "execution_count": 15,
   "metadata": {},
   "outputs": [],
   "source": [
    "embeddings_index = {};\n",
    "with open('glove.6B.100d.txt', encoding=\"utf8\") as f:\n",
    "    for line in f:\n",
    "        values = line.split();\n",
    "        word = values[0];\n",
    "        coefs = np.asarray(values[1:], dtype='float32');\n",
    "        embeddings_index[word] = coefs;\n",
    "\n",
    "embeddings_matrix = np.zeros((vocab_size+1, embedding_dim));\n",
    "for word, i in word_index.items():\n",
    "    embedding_vector = embeddings_index.get(word);\n",
    "    if embedding_vector is not None:\n",
    "        embeddings_matrix[i] = embedding_vector;"
   ]
  },
  {
   "cell_type": "code",
   "execution_count": 16,
   "metadata": {},
   "outputs": [
    {
     "name": "stdout",
     "output_type": "stream",
     "text": [
      "138569\n"
     ]
    }
   ],
   "source": [
    "print(len(embeddings_matrix))"
   ]
  },
  {
   "cell_type": "code",
   "execution_count": 17,
   "metadata": {},
   "outputs": [
    {
     "name": "stdout",
     "output_type": "stream",
     "text": [
      "Model: \"sequential_1\"\n",
      "_________________________________________________________________\n",
      "Layer (type)                 Output Shape              Param #   \n",
      "=================================================================\n",
      "embedding_1 (Embedding)      (None, 16, 100)           13856900  \n",
      "_________________________________________________________________\n",
      "dropout (Dropout)            (None, 16, 100)           0         \n",
      "_________________________________________________________________\n",
      "conv1d_1 (Conv1D)            (None, 12, 64)            32064     \n",
      "_________________________________________________________________\n",
      "max_pooling1d_1 (MaxPooling1 (None, 3, 64)             0         \n",
      "_________________________________________________________________\n",
      "unified_lstm_1 (UnifiedLSTM) (None, 64)                33024     \n",
      "_________________________________________________________________\n",
      "dense_1 (Dense)              (None, 1)                 65        \n",
      "=================================================================\n",
      "Total params: 13,922,053\n",
      "Trainable params: 65,153\n",
      "Non-trainable params: 13,856,900\n",
      "_________________________________________________________________\n",
      "Train on 128000 samples, validate on 32000 samples\n",
      "Epoch 1/50\n",
      "128000/128000 - 23s - loss: 0.6215 - accuracy: 0.6454 - val_loss: 0.5923 - val_accuracy: 0.6767\n",
      "Epoch 2/50\n",
      "128000/128000 - 21s - loss: 0.5677 - accuracy: 0.6990 - val_loss: 0.5610 - val_accuracy: 0.7031\n",
      "Epoch 3/50\n",
      "128000/128000 - 21s - loss: 0.5458 - accuracy: 0.7170 - val_loss: 0.5471 - val_accuracy: 0.7163\n",
      "Epoch 4/50\n",
      "128000/128000 - 21s - loss: 0.5312 - accuracy: 0.7286 - val_loss: 0.5438 - val_accuracy: 0.7171\n",
      "Epoch 5/50\n",
      "128000/128000 - 22s - loss: 0.5198 - accuracy: 0.7384 - val_loss: 0.5394 - val_accuracy: 0.7235\n",
      "Epoch 6/50\n",
      "128000/128000 - 22s - loss: 0.5136 - accuracy: 0.7415 - val_loss: 0.5404 - val_accuracy: 0.7219\n",
      "Epoch 7/50\n",
      "128000/128000 - 22s - loss: 0.5073 - accuracy: 0.7458 - val_loss: 0.5384 - val_accuracy: 0.7232\n",
      "Epoch 8/50\n",
      "128000/128000 - 22s - loss: 0.5007 - accuracy: 0.7506 - val_loss: 0.5365 - val_accuracy: 0.7238\n",
      "Epoch 9/50\n",
      "128000/128000 - 21s - loss: 0.4975 - accuracy: 0.7536 - val_loss: 0.5389 - val_accuracy: 0.7235\n",
      "Epoch 10/50\n",
      "128000/128000 - 23s - loss: 0.4935 - accuracy: 0.7563 - val_loss: 0.5345 - val_accuracy: 0.7249\n",
      "Epoch 11/50\n",
      "128000/128000 - 21s - loss: 0.4905 - accuracy: 0.7574 - val_loss: 0.5357 - val_accuracy: 0.7249\n",
      "Epoch 12/50\n",
      "128000/128000 - 21s - loss: 0.4866 - accuracy: 0.7595 - val_loss: 0.5364 - val_accuracy: 0.7253\n",
      "Epoch 13/50\n",
      "128000/128000 - 21s - loss: 0.4827 - accuracy: 0.7631 - val_loss: 0.5374 - val_accuracy: 0.7229\n",
      "Epoch 14/50\n",
      "128000/128000 - 21s - loss: 0.4806 - accuracy: 0.7647 - val_loss: 0.5342 - val_accuracy: 0.7243\n",
      "Epoch 15/50\n",
      "128000/128000 - 22s - loss: 0.4776 - accuracy: 0.7681 - val_loss: 0.5453 - val_accuracy: 0.7182\n",
      "Epoch 16/50\n",
      "128000/128000 - 24s - loss: 0.4736 - accuracy: 0.7689 - val_loss: 0.5327 - val_accuracy: 0.7286\n",
      "Epoch 17/50\n",
      "128000/128000 - 22s - loss: 0.4727 - accuracy: 0.7702 - val_loss: 0.5380 - val_accuracy: 0.7248\n",
      "Epoch 18/50\n",
      "128000/128000 - 22s - loss: 0.4708 - accuracy: 0.7704 - val_loss: 0.5344 - val_accuracy: 0.7254\n",
      "Epoch 19/50\n",
      "128000/128000 - 22s - loss: 0.4712 - accuracy: 0.7720 - val_loss: 0.5313 - val_accuracy: 0.7288\n",
      "Epoch 20/50\n",
      "128000/128000 - 21s - loss: 0.4703 - accuracy: 0.7708 - val_loss: 0.5337 - val_accuracy: 0.7251\n",
      "Epoch 21/50\n",
      "128000/128000 - 22s - loss: 0.4669 - accuracy: 0.7749 - val_loss: 0.5317 - val_accuracy: 0.7277\n",
      "Epoch 22/50\n",
      "128000/128000 - 21s - loss: 0.4659 - accuracy: 0.7758 - val_loss: 0.5375 - val_accuracy: 0.7252\n",
      "Epoch 23/50\n",
      "128000/128000 - 22s - loss: 0.4630 - accuracy: 0.7764 - val_loss: 0.5340 - val_accuracy: 0.7267\n",
      "Epoch 24/50\n",
      "128000/128000 - 21s - loss: 0.4634 - accuracy: 0.7756 - val_loss: 0.5344 - val_accuracy: 0.7270\n",
      "Epoch 25/50\n",
      "128000/128000 - 21s - loss: 0.4616 - accuracy: 0.7767 - val_loss: 0.5318 - val_accuracy: 0.7286\n",
      "Epoch 26/50\n",
      "128000/128000 - 21s - loss: 0.4599 - accuracy: 0.7780 - val_loss: 0.5336 - val_accuracy: 0.7265\n",
      "Epoch 27/50\n",
      "128000/128000 - 21s - loss: 0.4597 - accuracy: 0.7790 - val_loss: 0.5362 - val_accuracy: 0.7249\n",
      "Epoch 28/50\n",
      "128000/128000 - 22s - loss: 0.4598 - accuracy: 0.7785 - val_loss: 0.5323 - val_accuracy: 0.7288\n",
      "Epoch 29/50\n",
      "128000/128000 - 22s - loss: 0.4570 - accuracy: 0.7812 - val_loss: 0.5324 - val_accuracy: 0.7289\n",
      "Epoch 30/50\n",
      "128000/128000 - 22s - loss: 0.4563 - accuracy: 0.7813 - val_loss: 0.5313 - val_accuracy: 0.7270\n",
      "Epoch 31/50\n",
      "128000/128000 - 21s - loss: 0.4546 - accuracy: 0.7819 - val_loss: 0.5351 - val_accuracy: 0.7271\n",
      "Epoch 32/50\n",
      "128000/128000 - 23s - loss: 0.4543 - accuracy: 0.7815 - val_loss: 0.5348 - val_accuracy: 0.7252\n",
      "Epoch 33/50\n",
      "128000/128000 - 22s - loss: 0.4524 - accuracy: 0.7828 - val_loss: 0.5350 - val_accuracy: 0.7260\n",
      "Epoch 34/50\n",
      "128000/128000 - 21s - loss: 0.4544 - accuracy: 0.7818 - val_loss: 0.5375 - val_accuracy: 0.7241\n",
      "Epoch 35/50\n",
      "128000/128000 - 21s - loss: 0.4525 - accuracy: 0.7841 - val_loss: 0.5410 - val_accuracy: 0.7245\n",
      "Epoch 36/50\n",
      "128000/128000 - 21s - loss: 0.4500 - accuracy: 0.7845 - val_loss: 0.5399 - val_accuracy: 0.7225\n",
      "Epoch 37/50\n",
      "128000/128000 - 21s - loss: 0.4516 - accuracy: 0.7845 - val_loss: 0.5356 - val_accuracy: 0.7241\n",
      "Epoch 38/50\n",
      "128000/128000 - 21s - loss: 0.4510 - accuracy: 0.7849 - val_loss: 0.5374 - val_accuracy: 0.7207\n",
      "Epoch 39/50\n",
      "128000/128000 - 21s - loss: 0.4494 - accuracy: 0.7851 - val_loss: 0.5368 - val_accuracy: 0.7207\n",
      "Epoch 40/50\n",
      "128000/128000 - 22s - loss: 0.4488 - accuracy: 0.7848 - val_loss: 0.5396 - val_accuracy: 0.7191\n",
      "Epoch 41/50\n",
      "128000/128000 - 21s - loss: 0.4484 - accuracy: 0.7871 - val_loss: 0.5393 - val_accuracy: 0.7198\n",
      "Epoch 42/50\n",
      "128000/128000 - 21s - loss: 0.4483 - accuracy: 0.7879 - val_loss: 0.5402 - val_accuracy: 0.7218\n",
      "Epoch 43/50\n",
      "128000/128000 - 20s - loss: 0.4471 - accuracy: 0.7872 - val_loss: 0.5401 - val_accuracy: 0.7230\n",
      "Epoch 44/50\n",
      "128000/128000 - 21s - loss: 0.4469 - accuracy: 0.7880 - val_loss: 0.5458 - val_accuracy: 0.7204\n",
      "Epoch 45/50\n",
      "128000/128000 - 21s - loss: 0.4462 - accuracy: 0.7884 - val_loss: 0.5398 - val_accuracy: 0.7241\n",
      "Epoch 46/50\n",
      "128000/128000 - 20s - loss: 0.4462 - accuracy: 0.7888 - val_loss: 0.5393 - val_accuracy: 0.7217\n",
      "Epoch 47/50\n",
      "128000/128000 - 22s - loss: 0.4456 - accuracy: 0.7884 - val_loss: 0.5375 - val_accuracy: 0.7248\n",
      "Epoch 48/50\n",
      "128000/128000 - 22s - loss: 0.4442 - accuracy: 0.7898 - val_loss: 0.5404 - val_accuracy: 0.7231\n",
      "Epoch 49/50\n",
      "128000/128000 - 23s - loss: 0.4446 - accuracy: 0.7895 - val_loss: 0.5370 - val_accuracy: 0.7252\n",
      "Epoch 50/50\n",
      "128000/128000 - 21s - loss: 0.4428 - accuracy: 0.7906 - val_loss: 0.5396 - val_accuracy: 0.7243\n",
      "Training Complete\n"
     ]
    }
   ],
   "source": [
    "model = tf.keras.Sequential([\n",
    "    tf.keras.layers.Embedding(vocab_size+1, embedding_dim, input_length=max_length, weights=[embeddings_matrix], trainable=False),\n",
    "    tf.keras.layers.Dropout(0.2),\n",
    "    tf.keras.layers.Conv1D(64, 5, activation='relu'),\n",
    "    tf.keras.layers.MaxPooling1D(pool_size=4),\n",
    "    tf.keras.layers.LSTM(64),\n",
    "    tf.keras.layers.Dense(1, activation='sigmoid')\n",
    "])\n",
    "model.compile(loss='binary_crossentropy',optimizer='RMSprop',metrics=['accuracy'])\n",
    "model.summary()\n",
    "\n",
    "num_epochs = 50\n",
    "\n",
    "training_padded = np.array(training_sequences)\n",
    "training_labels = np.array(training_labels)\n",
    "testing_padded = np.array(test_sequences)\n",
    "testing_labels = np.array(test_labels)\n",
    "\n",
    "history = model.fit(training_padded, training_labels, epochs=num_epochs, validation_data=(testing_padded, testing_labels), verbose=2)\n",
    "\n",
    "print(\"Training Complete\")"
   ]
  },
  {
   "cell_type": "code",
   "execution_count": 23,
   "metadata": {},
   "outputs": [
    {
     "data": {
      "text/plain": [
       "<Figure size 432x288 with 0 Axes>"
      ]
     },
     "execution_count": 23,
     "metadata": {},
     "output_type": "execute_result"
    },
    {
     "data": {
      "image/png": "[encoded data removed]",
      "text/plain": [
       "<Figure size 432x288 with 1 Axes>"
      ]
     },
     "metadata": {
      "needs_background": "light"
     },
     "output_type": "display_data"
    },
    {
     "data": {
      "image/png": "[encoded data removed]",
      "text/plain": [
       "<Figure size 432x288 with 1 Axes>"
      ]
     },
     "metadata": {
      "needs_background": "light"
     },
     "output_type": "display_data"
    },
    {
     "data": {
      "text/plain": [
       "<Figure size 432x288 with 0 Axes>"
      ]
     },
     "metadata": {},
     "output_type": "display_data"
    }
   ],
   "source": [
    "#-----------------------------------------------------------\n",
    "# Retrieve a list of list results on training and test data\n",
    "# sets for each training epoch\n",
    "#-----------------------------------------------------------\n",
    "acc=history.history['accuracy']\n",
    "val_acc=history.history['val_accuracy']\n",
    "loss=history.history['loss']\n",
    "val_loss=history.history['val_loss']\n",
    "\n",
    "epochs=range(len(acc)) # Get number of epochs\n",
    "\n",
    "#------------------------------------------------\n",
    "# Plot training and validation accuracy per epoch\n",
    "#------------------------------------------------\n",
    "plt.plot(epochs, acc, 'r')\n",
    "plt.plot(epochs, val_acc, 'b')\n",
    "plt.title('Training and validation accuracy')\n",
    "plt.xlabel(\"Epochs\")\n",
    "plt.ylabel(\"Accuracy\")\n",
    "plt.legend([\"Accuracy\", \"Validation Accuracy\"])\n",
    "\n",
    "plt.figure()\n",
    "\n",
    "#------------------------------------------------\n",
    "# Plot training and validation loss per epoch\n",
    "#------------------------------------------------\n",
    "plt.plot(epochs, loss, 'r')\n",
    "plt.plot(epochs, val_loss, 'b')\n",
    "plt.title('Training and validation loss')\n",
    "plt.xlabel(\"Epochs\")\n",
    "plt.ylabel(\"Loss\")\n",
    "plt.legend([\"Loss\", \"Validation Loss\"])\n",
    "\n",
    "plt.figure()\n",
    "\n"
   ]
  }
 ],
 "metadata": {
  "kernelspec": {
   "display_name": "Python 3",
   "language": "python",
   "name": "python3"
  },
  "language_info": {
   "codemirror_mode": {
    "name": "ipython",
    "version": 3
   },
   "file_extension": ".py",
   "mimetype": "text/x-python",
   "name": "python",
   "nbconvert_exporter": "python",
   "pygments_lexer": "ipython3",
   "version": "3.7.4"
  }
 },
 "nbformat": 4,
 "nbformat_minor": 4
}
