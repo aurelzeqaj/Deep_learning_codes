{
 "cells": [
  {
   "cell_type": "code",
   "execution_count": 79,
   "metadata": {},
   "outputs": [
    {
     "name": "stdout",
     "output_type": "stream",
     "text": [
      "100% [..........................................................................] 5057493 / 5057493"
     ]
    }
   ],
   "source": [
    "import wget\n",
    "#download the bbc csv file\n",
    "url = 'https://storage.googleapis.com/laurencemoroney-blog.appspot.com/bbc-text.csv'\n",
    "wget.download(url)\n",
    "import tensorflow as tf\n",
    "import csv\n",
    "from tensorflow.keras.preprocessing.text import Tokenizer\n",
    "from tensorflow.keras.preprocessing.sequence import pad_sequences"
   ]
  },
  {
   "cell_type": "code",
   "execution_count": 105,
   "metadata": {},
   "outputs": [],
   "source": [
    "vocab_size = 1000  #size of the vocabulry to use\n",
    "embedding_dim = 16  #dimensions of the vector used to represent each word\n",
    "max_length = 120    #maximum lenght of the vector used to represent a single row \n",
    "trunc_type = 'post'    #type of truncation, if the dim is exceeded the last part is truncated\n",
    "padding_type = 'post'  #type of paddig, zeros are added at the end\n",
    "oov_tok = \"<00V>\"      #coding used to represent out of vocabulary words \n",
    "training_portion = 0.8"
   ]
  },
  {
   "cell_type": "code",
   "execution_count": 81,
   "metadata": {},
   "outputs": [
    {
     "name": "stdout",
     "output_type": "stream",
     "text": [
      "153\n"
     ]
    }
   ],
   "source": [
    "#Stopwords list from https://github.com/Yoast/YoastSEO.js/blob/develop/src/config/stopwords.js\n",
    "stopwords = [ \"a\", \"about\", \"above\", \"after\", \"again\", \"against\", \"all\", \"am\", \"an\", \"and\", \"any\", \"are\", \"as\", \"at\", \"be\", \"because\", \"been\", \"before\", \"being\", \"below\", \"between\", \"both\", \"but\", \"by\", \"could\", \"did\", \"do\", \"does\", \"doing\", \"down\", \"during\", \"each\", \"few\", \"for\", \"from\", \"further\", \"had\", \"has\", \"have\", \"having\", \"he\", \"he'd\", \"he'll\", \"he's\", \"her\", \"here\", \"here's\", \"hers\", \"herself\", \"him\", \"himself\", \"his\", \"how\", \"how's\", \"i\", \"i'd\", \"i'll\", \"i'm\", \"i've\", \"if\", \"in\", \"into\", \"is\", \"it\", \"it's\", \"its\", \"itself\", \"let's\", \"me\", \"more\", \"most\", \"my\", \"myself\", \"nor\", \"of\", \"on\", \"once\", \"only\", \"or\", \"other\", \"ought\", \"our\", \"ours\", \"ourselves\", \"out\", \"over\", \"own\", \"same\", \"she\", \"she'd\", \"she'll\", \"she's\", \"should\", \"so\", \"some\", \"such\", \"than\", \"that\", \"that's\", \"the\", \"their\", \"theirs\", \"them\", \"themselves\", \"then\", \"there\", \"there's\", \"these\", \"they\", \"they'd\", \"they'll\", \"they're\", \"they've\", \"this\", \"those\", \"through\", \"to\", \"too\", \"under\", \"until\", \"up\", \"very\", \"was\", \"we\", \"we'd\", \"we'll\", \"we're\", \"we've\", \"were\", \"what\", \"what's\", \"when\", \"when's\", \"where\", \"where's\", \"which\", \"while\", \"who\", \"who's\", \"whom\", \"why\", \"why's\", \"with\", \"would\", \"you\", \"you'd\", \"you'll\", \"you're\", \"you've\", \"your\", \"yours\", \"yourself\", \"yourselves\" ]\n",
    "print(len(stopwords))"
   ]
  },
  {
   "cell_type": "code",
   "execution_count": 106,
   "metadata": {},
   "outputs": [
    {
     "name": "stdout",
     "output_type": "stream",
     "text": [
      "2225\n"
     ]
    }
   ],
   "source": [
    "#preprocess file to obtain sentences and labels vectors\n",
    "sentences = []\n",
    "labels = []\n",
    "with open(\"bbc-text.csv\", 'r') as csvfile:  #open csv file\n",
    "    reader = csv.reader(csvfile, delimiter = ',')  #read csv file\n",
    "    next(reader)  #skip first row with labels\n",
    "    for row in reader:\n",
    "        labels.append(row[0])  #save every first element of row in the label vector\n",
    "        sentence = row[1]      #preliminarly save the rest of the row in sentence\n",
    "        for word in stopwords: #go through the stopwords\n",
    "            token = \" \" + word + \" \"\n",
    "            sentence = sentence.replace(token, \" \")\n",
    "            sentence = sentence.replace(\" \", \" \")          #remove the sropwords from the sentences\n",
    "        sentences.append(sentence)\n",
    "\n",
    "print(len(sentences))\n",
    "#print((sentences[0]))"
   ]
  },
  {
   "cell_type": "code",
   "execution_count": 107,
   "metadata": {},
   "outputs": [
    {
     "name": "stdout",
     "output_type": "stream",
     "text": [
      "1780\n",
      "1780\n",
      "1780\n",
      "445\n",
      "445\n"
     ]
    }
   ],
   "source": [
    "sep_len = int(training_portion*len(sentences))  #define separation between training and validation data\n",
    "train_sentences = sentences[0:sep_len]   #first divide sentences\n",
    "test_sentences = sentences[sep_len:]\n",
    "train_labels = labels[0:sep_len]    #then labels\n",
    "test_labels = labels[sep_len:]\n",
    "print(sep_len)\n",
    "print(len(train_sentences))\n",
    "print(len(train_labels))\n",
    "print(len(test_sentences))\n",
    "print(len(test_labels))"
   ]
  },
  {
   "cell_type": "code",
   "execution_count": 108,
   "metadata": {},
   "outputs": [
    {
     "name": "stdout",
     "output_type": "stream",
     "text": [
      "27285\n"
     ]
    }
   ],
   "source": [
    "tokenizer =  Tokenizer(num_words = vocab_size, oov_token=oov_tok)   #define out of vocabolary identification and number of words\n",
    "tokenizer.fit_on_texts(train_sentences)           #create the vocabulary index based on word frequency\n",
    "word_index = tokenizer.word_index           #dictionary \n",
    "print(len(word_index))\n",
    "#print(word_index)"
   ]
  },
  {
   "cell_type": "code",
   "execution_count": 127,
   "metadata": {},
   "outputs": [],
   "source": [
    "train_sequences = tokenizer.texts_to_sequences(train_sentences)    #Transform each text in texts to a sequence of integers\n",
    "train_padded = pad_sequences(train_sequences, padding = padding_type, maxlen = max_length, truncating= trunc_type)    #add padding, i.e. zeros, at the end to have same lenght \n",
    "\n",
    "test_sequences = tokenizer.texts_to_sequences(test_sentences)    #Transform each text in texts to a sequence of integers\n",
    "test_padded = pad_sequences(test_sequences, padding = padding_type, maxlen = max_length, truncating= trunc_type)    #add padding, i.e. zeros, at the end to have same lenght "
   ]
  },
  {
   "cell_type": "code",
   "execution_count": 128,
   "metadata": {},
   "outputs": [],
   "source": [
    "label_tokenizer = Tokenizer()                           #same as before, but with the labels\n",
    "label_tokenizer.fit_on_texts(labels)\n",
    "training_label_seq = np.array(label_tokenizer.texts_to_sequences(train_labels))\n",
    "validation_label_seq = np.array(label_tokenizer.texts_to_sequences(test_labels))"
   ]
  },
  {
   "cell_type": "code",
   "execution_count": 111,
   "metadata": {},
   "outputs": [],
   "source": [
    "import numpy as np   #trasform list in numpy array (later )\n",
    "train_padded = np.array(train_padded)\n",
    "test_padded = np.array(test_padded)"
   ]
  },
  {
   "cell_type": "code",
   "execution_count": 120,
   "metadata": {},
   "outputs": [],
   "source": [
    "#create  the mdel \n",
    "\n",
    "model = tf.keras.Sequential([\n",
    "    tf.keras.layers.Embedding(vocab_size, embedding_dim, input_length=max_length),\n",
    "    tf.keras.layers.GlobalAveragePooling1D(),\n",
    "    tf.keras.layers.Dense(24, activation='relu'),\n",
    "    tf.keras.layers.Dense(6, activation='sigmoid')\n",
    "])\n",
    "model.compile(loss='sparse_categorical_crossentropy', optimizer='adam', metrics=['accuracy'])"
   ]
  },
  {
   "cell_type": "code",
   "execution_count": 103,
   "metadata": {},
   "outputs": [
    {
     "name": "stdout",
     "output_type": "stream",
     "text": [
      "Model: \"sequential_4\"\n",
      "_________________________________________________________________\n",
      "Layer (type)                 Output Shape              Param #   \n",
      "=================================================================\n",
      "embedding_4 (Embedding)      (None, 120, 16)           160000    \n",
      "_________________________________________________________________\n",
      "global_average_pooling1d_4 ( (None, 16)                0         \n",
      "_________________________________________________________________\n",
      "dense_8 (Dense)              (None, 24)                408       \n",
      "_________________________________________________________________\n",
      "dense_9 (Dense)              (None, 6)                 150       \n",
      "=================================================================\n",
      "Total params: 160,558\n",
      "Trainable params: 160,558\n",
      "Non-trainable params: 0\n",
      "_________________________________________________________________\n"
     ]
    }
   ],
   "source": [
    "model.summary()"
   ]
  },
  {
   "cell_type": "code",
   "execution_count": 121,
   "metadata": {},
   "outputs": [
    {
     "name": "stdout",
     "output_type": "stream",
     "text": [
      "Train on 1780 samples, validate on 445 samples\n",
      "Epoch 1/30\n",
      "1780/1780 - 0s - loss: 1.7764 - accuracy: 0.1938 - val_loss: 1.7567 - val_accuracy: 0.1933\n",
      "Epoch 2/30\n",
      "1780/1780 - 0s - loss: 1.7270 - accuracy: 0.1882 - val_loss: 1.6919 - val_accuracy: 0.1978\n",
      "Epoch 3/30\n",
      "1780/1780 - 0s - loss: 1.6499 - accuracy: 0.2129 - val_loss: 1.6125 - val_accuracy: 0.3146\n",
      "Epoch 4/30\n",
      "1780/1780 - 0s - loss: 1.5783 - accuracy: 0.3854 - val_loss: 1.5499 - val_accuracy: 0.3618\n",
      "Epoch 5/30\n",
      "1780/1780 - 0s - loss: 1.5057 - accuracy: 0.4713 - val_loss: 1.4626 - val_accuracy: 0.6180\n",
      "Epoch 6/30\n",
      "1780/1780 - 0s - loss: 1.3618 - accuracy: 0.7067 - val_loss: 1.2670 - val_accuracy: 0.6899\n",
      "Epoch 7/30\n",
      "1780/1780 - 0s - loss: 1.0834 - accuracy: 0.7427 - val_loss: 0.9647 - val_accuracy: 0.7506\n",
      "Epoch 8/30\n",
      "1780/1780 - 0s - loss: 0.7841 - accuracy: 0.8101 - val_loss: 0.7333 - val_accuracy: 0.7528\n",
      "Epoch 9/30\n",
      "1780/1780 - 0s - loss: 0.5985 - accuracy: 0.8202 - val_loss: 0.6088 - val_accuracy: 0.8629\n",
      "Epoch 10/30\n",
      "1780/1780 - 0s - loss: 0.4939 - accuracy: 0.8904 - val_loss: 0.5249 - val_accuracy: 0.8742\n",
      "Epoch 11/30\n",
      "1780/1780 - 0s - loss: 0.4157 - accuracy: 0.9152 - val_loss: 0.4584 - val_accuracy: 0.9169\n",
      "Epoch 12/30\n",
      "1780/1780 - 0s - loss: 0.3536 - accuracy: 0.9466 - val_loss: 0.4069 - val_accuracy: 0.9213\n",
      "Epoch 13/30\n",
      "1780/1780 - 0s - loss: 0.2992 - accuracy: 0.9590 - val_loss: 0.3574 - val_accuracy: 0.9213\n",
      "Epoch 14/30\n",
      "1780/1780 - 0s - loss: 0.2551 - accuracy: 0.9624 - val_loss: 0.3195 - val_accuracy: 0.9281\n",
      "Epoch 15/30\n",
      "1780/1780 - 0s - loss: 0.2200 - accuracy: 0.9652 - val_loss: 0.2956 - val_accuracy: 0.9326\n",
      "Epoch 16/30\n",
      "1780/1780 - 0s - loss: 0.1922 - accuracy: 0.9708 - val_loss: 0.2735 - val_accuracy: 0.9371\n",
      "Epoch 17/30\n",
      "1780/1780 - 0s - loss: 0.1693 - accuracy: 0.9736 - val_loss: 0.2596 - val_accuracy: 0.9348\n",
      "Epoch 18/30\n",
      "1780/1780 - 0s - loss: 0.1513 - accuracy: 0.9770 - val_loss: 0.2464 - val_accuracy: 0.9416\n",
      "Epoch 19/30\n",
      "1780/1780 - 0s - loss: 0.1361 - accuracy: 0.9764 - val_loss: 0.2335 - val_accuracy: 0.9416\n",
      "Epoch 20/30\n",
      "1780/1780 - 0s - loss: 0.1227 - accuracy: 0.9781 - val_loss: 0.2265 - val_accuracy: 0.9371\n",
      "Epoch 21/30\n",
      "1780/1780 - 0s - loss: 0.1119 - accuracy: 0.9815 - val_loss: 0.2179 - val_accuracy: 0.9393\n",
      "Epoch 22/30\n",
      "1780/1780 - 0s - loss: 0.1013 - accuracy: 0.9820 - val_loss: 0.2122 - val_accuracy: 0.9416\n",
      "Epoch 23/30\n",
      "1780/1780 - 0s - loss: 0.0933 - accuracy: 0.9831 - val_loss: 0.2100 - val_accuracy: 0.9461\n",
      "Epoch 24/30\n",
      "1780/1780 - 0s - loss: 0.0853 - accuracy: 0.9882 - val_loss: 0.2040 - val_accuracy: 0.9438\n",
      "Epoch 25/30\n",
      "1780/1780 - 0s - loss: 0.0783 - accuracy: 0.9893 - val_loss: 0.2015 - val_accuracy: 0.9393\n",
      "Epoch 26/30\n",
      "1780/1780 - 0s - loss: 0.0713 - accuracy: 0.9910 - val_loss: 0.2006 - val_accuracy: 0.9438\n",
      "Epoch 27/30\n",
      "1780/1780 - 0s - loss: 0.0658 - accuracy: 0.9910 - val_loss: 0.1986 - val_accuracy: 0.9393\n",
      "Epoch 28/30\n",
      "1780/1780 - 0s - loss: 0.0606 - accuracy: 0.9921 - val_loss: 0.1953 - val_accuracy: 0.9416\n",
      "Epoch 29/30\n",
      "1780/1780 - 0s - loss: 0.0559 - accuracy: 0.9927 - val_loss: 0.1958 - val_accuracy: 0.9438\n",
      "Epoch 30/30\n",
      "1780/1780 - 0s - loss: 0.0518 - accuracy: 0.9938 - val_loss: 0.1926 - val_accuracy: 0.9438\n"
     ]
    }
   ],
   "source": [
    "num_epochs = 30\n",
    "history = model.fit(train_padded,training_label_seq, epochs = num_epochs, validation_data= (test_padded, validation_label_seq ), verbose = 2 )"
   ]
  },
  {
   "cell_type": "code",
   "execution_count": 117,
   "metadata": {},
   "outputs": [
    {
     "data": {
      "image/png": "[encoded data removed]",
      "text/plain": [
       "<Figure size 432x288 with 1 Axes>"
      ]
     },
     "metadata": {
      "needs_background": "light"
     },
     "output_type": "display_data"
    },
    {
     "data": {
      "image/png": "[encoded data removed]",
      "text/plain": [
       "<Figure size 432x288 with 1 Axes>"
      ]
     },
     "metadata": {
      "needs_background": "light"
     },
     "output_type": "display_data"
    }
   ],
   "source": [
    "import matplotlib.pyplot as  plt\n",
    "\n",
    "def plot_graphs(history, string):\n",
    "    plt.plot(history.history[string])\n",
    "    plt.plot(history.history['val_' + string])\n",
    "    plt.xlabel(\"Epochs\")\n",
    "    plt.ylabel(string)\n",
    "    plt.legend([string, 'val_' + string])\n",
    "    plt.show()\n",
    "    \n",
    "plot_graphs(history, \"accuracy\")\n",
    "plot_graphs(history, \"loss\")"
   ]
  },
  {
   "cell_type": "code",
   "execution_count": 124,
   "metadata": {},
   "outputs": [
    {
     "name": "stdout",
     "output_type": "stream",
     "text": [
      "tv future <00V> <00V> home theatre systems <00V> high <00V> <00V> digital video <00V> <00V> <00V> <00V> way people watch tv will <00V> different five years time according <00V> <00V> <00V> annual consumer <00V> show <00V> <00V> <00V> new technologies will impact one favourite <00V> us leading <00V> <00V> content will <00V> <00V> via home networks <00V> <00V> <00V> companies broadband service <00V> front <00V> portable devices one <00V> <00V> technologies <00V> digital personal video <00V> <00V> <00V> set top <00V> like us s <00V> uk s <00V> system allow people record <00V> play <00V> forward <00V> tv <00V> want <00V> technology <00V> much <00V> tv also <00V> in high <00V> tv <00V> big business japan us <00V> take off\n",
      "[ 99 170   1   1  55 993 771   1  97   1   1 139 186   1   1   1   1  48\n",
      "   9 907  99   4   1 347  93  24  17 140   1   1   1 585 465   1  65   1\n",
      "   1   1  10 935   4 745  12 858   1  11 613   1   1 408   4   1   1 746\n",
      "  55 552   1   1   1 144 262 123   1 809   1 994 599  12   1   1 935   1\n",
      " 139 357 186   1   1   1  45  69   1  34  11   2   1  22   2   1 146 429\n",
      "   9 153   1  79   1 449   1  99   1  85   1  90   1  60   1  99   8   1\n",
      " 614  97   1  99   1 141 147 433  11   1  44  56]\n",
      "tigers wary farrell  gamble  leicester say will not rushed making bid andy farrell great britain rugby league captain decide switch codes.   anybody else involved process still way away going next stage   tigers boss john wells told bbc radio leicester.  moment  still lot unknowns andy farrell  not least medical situation.  whoever take going take big  big gamble.  farrell  persistent knee problems  operation knee five weeks ago expected another three months. leicester saracens believed head list rugby union clubs interested signing farrell decides move 15-man game.  move across union  wells believes better off playing backs  least initially.  m sure make step league union involved centre   said wells.  think england prefer progress position back row can make use rugby league skills within forwards.  jury whether can cross divide.  club  balance will struck cost gamble option bringing ready-made replacement.\n",
      "sport\n"
     ]
    }
   ],
   "source": [
    "reverse_word_index = dict([(value, key) for (key, value) in word_index.items()])\n",
    "\n",
    "def decode_sentence(text):\n",
    "    return ' '.join([reverse_word_index.get(i, '?') for i in text])\n",
    "\n",
    "print(decode_sentence(train_padded[0]))\n",
    "print((train_padded[0]))\n",
    "print(train_sentences[2])\n",
    "print(labels[2])"
   ]
  },
  {
   "cell_type": "code",
   "execution_count": 125,
   "metadata": {},
   "outputs": [
    {
     "name": "stdout",
     "output_type": "stream",
     "text": [
      "(1000, 16)\n"
     ]
    }
   ],
   "source": [
    "e = model.layers[0]\n",
    "weights = e.get_weights()[0]\n",
    "print(weights.shape) # shape: (vocab_size, embedding_dim)\n",
    "\n",
    "# Expected output\n",
    "# (1000, 16)"
   ]
  },
  {
   "cell_type": "code",
   "execution_count": 126,
   "metadata": {},
   "outputs": [],
   "source": [
    "import io\n",
    "\n",
    "out_v = io.open('vecs.tsv', 'w', encoding='utf-8')\n",
    "out_m = io.open('meta.tsv', 'w', encoding='utf-8')\n",
    "for word_num in range(1, vocab_size):\n",
    "  word = reverse_word_index[word_num]\n",
    "  embeddings = weights[word_num]\n",
    "  out_m.write(word + \"\\n\")\n",
    "  out_v.write('\\t'.join([str(x) for x in embeddings]) + \"\\n\")\n",
    "out_v.close()\n",
    "out_m.close()"
   ]
  }
 ],
 "metadata": {
  "celltoolbar": "Attachments",
  "kernelspec": {
   "display_name": "Python 3",
   "language": "python",
   "name": "python3"
  },
  "language_info": {
   "codemirror_mode": {
    "name": "ipython",
    "version": 3
   },
   "file_extension": ".py",
   "mimetype": "text/x-python",
   "name": "python",
   "nbconvert_exporter": "python",
   "pygments_lexer": "ipython3",
   "version": "3.7.4"
  }
 },
 "nbformat": 4,
 "nbformat_minor": 4
}
