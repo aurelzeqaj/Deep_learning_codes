{
 "cells": [
  {
   "cell_type": "markdown",
   "metadata": {},
   "source": [
    "# Cats vs Dogs using image augmentation"
   ]
  },
  {
   "cell_type": "code",
   "execution_count": 1,
   "metadata": {},
   "outputs": [
    {
     "data": {
      "text/plain": [
       "('cats_and_dogs_filtered.zip', <http.client.HTTPMessage at 0x1612587ea88>)"
      ]
     },
     "execution_count": 1,
     "metadata": {},
     "output_type": "execute_result"
    }
   ],
   "source": [
    "import urllib.request\n",
    "url = 'https://storage.googleapis.com/mledu-datasets/cats_and_dogs_filtered.zip'\n",
    "filename = 'cats_and_dogs_filtered.zip'\n",
    "urllib.request.urlretrieve(url, filename)"
   ]
  },
  {
   "cell_type": "code",
   "execution_count": 2,
   "metadata": {},
   "outputs": [],
   "source": [
    "import os\n",
    "import zipfile\n",
    "import random\n",
    "import shutil\n",
    "import tensorflow as tf\n",
    "from tensorflow.keras.optimizers import RMSprop\n",
    "from tensorflow.keras.preprocessing.image import ImageDataGenerator\n",
    "from shutil import copyfile\n",
    "from os import getcwd"
   ]
  },
  {
   "cell_type": "code",
   "execution_count": 3,
   "metadata": {},
   "outputs": [],
   "source": [
    "# This code block unzips the full Cats-v-Dogs dataset to /tmp\n",
    "# which will create a tmp/PetImages directory containing subdirectories\n",
    "# called 'Cat' and 'Dog'\n",
    "\n",
    "local_zip = 'cats_and_dogs_filtered.zip'\n",
    "\n",
    "zip_ref = zipfile.ZipFile(local_zip, 'r')\n",
    "\n",
    "zip_ref.extractall('')\n",
    "zip_ref.close()"
   ]
  },
  {
   "cell_type": "code",
   "execution_count": 4,
   "metadata": {},
   "outputs": [
    {
     "name": "stdout",
     "output_type": "stream",
     "text": [
      "['.ipynb_checkpoints', 'cats_and_dogs_filtered', 'cats_and_dogs_filtered.zip', 'cats_vs_dog_image_augmentation.ipynb']\n"
     ]
    }
   ],
   "source": [
    "import os\n",
    "print(os.listdir())\n"
   ]
  },
  {
   "cell_type": "code",
   "execution_count": 5,
   "metadata": {},
   "outputs": [],
   "source": [
    "base_dir = 'cats_and_dogs_filtered'\n",
    "\n",
    "train_dir = os.path.join(base_dir, 'train')\n",
    "validation_dir = os.path.join(base_dir, 'validation')\n",
    "\n",
    "# Directory with our training cat/dog pictures\n",
    "train_cats_dir = os.path.join(train_dir, 'cats')\n",
    "train_dogs_dir = os.path.join(train_dir, 'dogs')\n",
    "\n",
    "# Directory with our validation cat/dog pictures\n",
    "validation_cats_dir = os.path.join(validation_dir, 'cats')\n",
    "validation_dogs_dir = os.path.join(validation_dir, 'dogs')\n",
    "\n"
   ]
  },
  {
   "cell_type": "code",
   "execution_count": 6,
   "metadata": {},
   "outputs": [
    {
     "name": "stdout",
     "output_type": "stream",
     "text": [
      "['.ipynb_checkpoints', 'cat.0.jpg', 'cat.1.jpg', 'cat.10.jpg', 'cat.100.jpg', 'cat.101.jpg', 'cat.102.jpg', 'cat.103.jpg', 'cat.104.jpg', 'cat.105.jpg']\n",
      "['.ipynb_checkpoints', 'dog.0.jpg', 'dog.1.jpg', 'dog.10.jpg', 'dog.100.jpg', 'dog.101.jpg', 'dog.102.jpg', 'dog.103.jpg', 'dog.104.jpg', 'dog.105.jpg']\n"
     ]
    }
   ],
   "source": [
    "train_cat_fnames = os.listdir( train_cats_dir )\n",
    "train_dog_fnames = os.listdir( train_dogs_dir )\n",
    "print(train_cat_fnames[:10])\n",
    "print(train_dog_fnames[:10])"
   ]
  },
  {
   "cell_type": "code",
   "execution_count": 7,
   "metadata": {},
   "outputs": [
    {
     "name": "stdout",
     "output_type": "stream",
     "text": [
      "total training cat images : 1001\n",
      "total training dog images : 1001\n",
      "total validation cat images : 500\n",
      "total validation dog images : 500\n"
     ]
    }
   ],
   "source": [
    "print('total training cat images :', len(os.listdir(train_cats_dir ) ))\n",
    "print('total training dog images :', len(os.listdir(train_dogs_dir ) ))\n",
    "\n",
    "print('total validation cat images :', len(os.listdir( validation_cats_dir ) ))\n",
    "print('total validation dog images :', len(os.listdir( validation_dogs_dir ) ))"
   ]
  },
  {
   "cell_type": "code",
   "execution_count": 8,
   "metadata": {},
   "outputs": [],
   "source": [
    "model = tf.keras.models.Sequential([\n",
    "    tf.keras.layers.Conv2D(32, (3,3), activation='relu', input_shape=(150, 150, 3)),\n",
    "    tf.keras.layers.MaxPooling2D(2, 2),\n",
    "    tf.keras.layers.Conv2D(64, (3,3), activation='relu'),\n",
    "    tf.keras.layers.MaxPooling2D(2,2),\n",
    "    tf.keras.layers.Conv2D(128, (3,3), activation='relu'),\n",
    "    tf.keras.layers.MaxPooling2D(2,2),\n",
    "    tf.keras.layers.Conv2D(128, (3,3), activation='relu'),\n",
    "    tf.keras.layers.MaxPooling2D(2,2),\n",
    "    tf.keras.layers.Flatten(),\n",
    "    tf.keras.layers.Dense(512, activation='relu'),\n",
    "    tf.keras.layers.Dense(1, activation='sigmoid')\n",
    "])\n",
    "\n",
    "model.compile(loss='binary_crossentropy',\n",
    "              optimizer=RMSprop(lr=1e-4),\n",
    "              metrics=['accuracy'])\n"
   ]
  },
  {
   "cell_type": "code",
   "execution_count": 9,
   "metadata": {},
   "outputs": [
    {
     "name": "stdout",
     "output_type": "stream",
     "text": [
      "Found 2014 images belonging to 2 classes.\n",
      "Found 1000 images belonging to 2 classes.\n",
      "WARNING:tensorflow:sample_weight modes were coerced from\n",
      "  ...\n",
      "    to  \n",
      "  ['...']\n",
      "WARNING:tensorflow:sample_weight modes were coerced from\n",
      "  ...\n",
      "    to  \n",
      "  ['...']\n",
      "Train for 100 steps, validate for 50 steps\n",
      "Epoch 1/50\n",
      "100/100 - 23s - loss: 0.6955 - accuracy: 0.5131 - val_loss: 0.6858 - val_accuracy: 0.4980\n",
      "Epoch 2/50\n",
      "100/100 - 26s - loss: 0.6885 - accuracy: 0.5340 - val_loss: 0.6922 - val_accuracy: 0.5320\n",
      "Epoch 3/50\n",
      "100/100 - 29s - loss: 0.6719 - accuracy: 0.5890 - val_loss: 0.6627 - val_accuracy: 0.5740\n",
      "Epoch 4/50\n",
      "100/100 - 24s - loss: 0.6686 - accuracy: 0.5895 - val_loss: 0.6386 - val_accuracy: 0.6380\n",
      "Epoch 5/50\n",
      "100/100 - 24s - loss: 0.6526 - accuracy: 0.6288 - val_loss: 0.6688 - val_accuracy: 0.5980\n",
      "Epoch 6/50\n",
      "100/100 - 25s - loss: 0.6383 - accuracy: 0.6280 - val_loss: 0.6271 - val_accuracy: 0.6240\n",
      "Epoch 7/50\n",
      "100/100 - 24s - loss: 0.6241 - accuracy: 0.6600 - val_loss: 0.5978 - val_accuracy: 0.6740\n",
      "Epoch 8/50\n",
      "100/100 - 25s - loss: 0.6292 - accuracy: 0.6539 - val_loss: 0.6169 - val_accuracy: 0.6300\n",
      "Epoch 9/50\n",
      "100/100 - 24s - loss: 0.6069 - accuracy: 0.6579 - val_loss: 0.5935 - val_accuracy: 0.6800\n",
      "Epoch 10/50\n",
      "100/100 - 25s - loss: 0.6169 - accuracy: 0.6660 - val_loss: 0.5691 - val_accuracy: 0.6920\n",
      "Epoch 11/50\n",
      "100/100 - 24s - loss: 0.6063 - accuracy: 0.6690 - val_loss: 0.5495 - val_accuracy: 0.7140\n",
      "Epoch 12/50\n",
      "100/100 - 25s - loss: 0.5982 - accuracy: 0.6700 - val_loss: 0.5484 - val_accuracy: 0.7220\n",
      "Epoch 13/50\n",
      "100/100 - 25s - loss: 0.5860 - accuracy: 0.6761 - val_loss: 0.5407 - val_accuracy: 0.7300\n",
      "Epoch 14/50\n",
      "100/100 - 25s - loss: 0.5863 - accuracy: 0.6811 - val_loss: 0.5988 - val_accuracy: 0.6880\n",
      "Epoch 15/50\n",
      "100/100 - 24s - loss: 0.5729 - accuracy: 0.7040 - val_loss: 0.5434 - val_accuracy: 0.7160\n",
      "Epoch 16/50\n",
      "100/100 - 24s - loss: 0.5722 - accuracy: 0.7072 - val_loss: 0.5382 - val_accuracy: 0.7140\n",
      "Epoch 17/50\n",
      "100/100 - 24s - loss: 0.5834 - accuracy: 0.6940 - val_loss: 0.5300 - val_accuracy: 0.7480\n",
      "Epoch 18/50\n",
      "100/100 - 24s - loss: 0.5866 - accuracy: 0.6831 - val_loss: 0.5289 - val_accuracy: 0.7440\n",
      "Epoch 19/50\n",
      "100/100 - 24s - loss: 0.5755 - accuracy: 0.7060 - val_loss: 0.6232 - val_accuracy: 0.6640\n",
      "Epoch 20/50\n",
      "100/100 - 24s - loss: 0.5648 - accuracy: 0.7093 - val_loss: 0.5290 - val_accuracy: 0.7300\n",
      "Epoch 21/50\n",
      "100/100 - 25s - loss: 0.5609 - accuracy: 0.7080 - val_loss: 0.6010 - val_accuracy: 0.6820\n",
      "Epoch 22/50\n",
      "100/100 - 24s - loss: 0.5445 - accuracy: 0.7183 - val_loss: 0.5169 - val_accuracy: 0.7320\n",
      "Epoch 23/50\n",
      "100/100 - 24s - loss: 0.5456 - accuracy: 0.7012 - val_loss: 0.5284 - val_accuracy: 0.7180\n",
      "Epoch 24/50\n",
      "100/100 - 25s - loss: 0.5585 - accuracy: 0.7103 - val_loss: 0.5036 - val_accuracy: 0.7400\n",
      "Epoch 25/50\n",
      "100/100 - 25s - loss: 0.5567 - accuracy: 0.7040 - val_loss: 0.4923 - val_accuracy: 0.7720\n",
      "Epoch 26/50\n",
      "100/100 - 25s - loss: 0.5255 - accuracy: 0.7480 - val_loss: 0.5058 - val_accuracy: 0.7420\n",
      "Epoch 27/50\n",
      "100/100 - 25s - loss: 0.5550 - accuracy: 0.7270 - val_loss: 0.5043 - val_accuracy: 0.7720\n",
      "Epoch 28/50\n",
      "100/100 - 25s - loss: 0.5233 - accuracy: 0.7324 - val_loss: 0.5438 - val_accuracy: 0.7340\n",
      "Epoch 29/50\n",
      "100/100 - 25s - loss: 0.5359 - accuracy: 0.7210 - val_loss: 0.4852 - val_accuracy: 0.7600\n",
      "Epoch 30/50\n",
      "100/100 - 24s - loss: 0.5551 - accuracy: 0.7093 - val_loss: 0.4885 - val_accuracy: 0.7640\n",
      "Epoch 31/50\n",
      "100/100 - 23s - loss: 0.5152 - accuracy: 0.7404 - val_loss: 0.4884 - val_accuracy: 0.7540\n",
      "Epoch 32/50\n",
      "100/100 - 25s - loss: 0.5271 - accuracy: 0.7274 - val_loss: 0.4724 - val_accuracy: 0.7700\n",
      "Epoch 33/50\n",
      "100/100 - 24s - loss: 0.5610 - accuracy: 0.7314 - val_loss: 0.5227 - val_accuracy: 0.7440\n",
      "Epoch 34/50\n",
      "100/100 - 24s - loss: 0.5340 - accuracy: 0.7330 - val_loss: 0.4872 - val_accuracy: 0.7720\n",
      "Epoch 35/50\n",
      "100/100 - 24s - loss: 0.5323 - accuracy: 0.7414 - val_loss: 0.4920 - val_accuracy: 0.7700\n",
      "Epoch 36/50\n",
      "100/100 - 24s - loss: 0.5252 - accuracy: 0.7364 - val_loss: 0.4700 - val_accuracy: 0.7940\n",
      "Epoch 37/50\n",
      "100/100 - 24s - loss: 0.5093 - accuracy: 0.7565 - val_loss: 0.4637 - val_accuracy: 0.7840\n",
      "Epoch 38/50\n",
      "100/100 - 24s - loss: 0.5157 - accuracy: 0.7465 - val_loss: 0.4730 - val_accuracy: 0.7680\n",
      "Epoch 39/50\n",
      "100/100 - 24s - loss: 0.5048 - accuracy: 0.7440 - val_loss: 0.4433 - val_accuracy: 0.7920\n",
      "Epoch 40/50\n",
      "100/100 - 25s - loss: 0.5015 - accuracy: 0.7475 - val_loss: 0.4640 - val_accuracy: 0.7760\n",
      "Epoch 41/50\n",
      "100/100 - 24s - loss: 0.5264 - accuracy: 0.7320 - val_loss: 0.4898 - val_accuracy: 0.7660\n",
      "Epoch 42/50\n",
      "100/100 - 25s - loss: 0.5259 - accuracy: 0.7364 - val_loss: 0.4484 - val_accuracy: 0.7840\n",
      "Epoch 43/50\n",
      "100/100 - 25s - loss: 0.4828 - accuracy: 0.7680 - val_loss: 0.4801 - val_accuracy: 0.7560\n",
      "Epoch 44/50\n",
      "100/100 - 24s - loss: 0.5171 - accuracy: 0.7485 - val_loss: 0.4458 - val_accuracy: 0.8100\n",
      "Epoch 45/50\n",
      "100/100 - 25s - loss: 0.4963 - accuracy: 0.7495 - val_loss: 0.4456 - val_accuracy: 0.7900\n",
      "Epoch 46/50\n",
      "100/100 - 24s - loss: 0.5069 - accuracy: 0.7470 - val_loss: 0.4772 - val_accuracy: 0.7720\n",
      "Epoch 47/50\n",
      "100/100 - 24s - loss: 0.4844 - accuracy: 0.7810 - val_loss: 0.5945 - val_accuracy: 0.6940\n",
      "Epoch 48/50\n",
      "100/100 - 25s - loss: 0.4956 - accuracy: 0.7640 - val_loss: 0.4334 - val_accuracy: 0.8200\n",
      "Epoch 49/50\n",
      "100/100 - 27s - loss: 0.5052 - accuracy: 0.7626 - val_loss: 0.4518 - val_accuracy: 0.7860\n",
      "Epoch 50/50\n",
      "100/100 - 26s - loss: 0.4961 - accuracy: 0.7480 - val_loss: 0.4660 - val_accuracy: 0.7680\n"
     ]
    }
   ],
   "source": [
    "# All images will be rescaled by 1./255\n",
    "train_datagen = ImageDataGenerator(\n",
    "      rescale=1./255,\n",
    "      rotation_range=40,\n",
    "      width_shift_range=0.2,\n",
    "      height_shift_range=0.2,\n",
    "      shear_range=0.2,\n",
    "      zoom_range=0.2,\n",
    "      horizontal_flip=True,\n",
    "      fill_mode='nearest')\n",
    "test_datagen = ImageDataGenerator(rescale=1./255)\n",
    "\n",
    "# Flow training images in batches of 20 using train_datagen generator\n",
    "train_generator = train_datagen.flow_from_directory(\n",
    "        train_dir,  # This is the source directory for training images\n",
    "        target_size=(150, 150),  # All images will be resized to 150x150\n",
    "        batch_size=10,\n",
    "        # Since we use binary_crossentropy loss, we need binary labels\n",
    "        class_mode='binary')\n",
    "\n",
    "# Flow validation images in batches of 20 using test_datagen generator\n",
    "validation_generator = test_datagen.flow_from_directory(\n",
    "        validation_dir,\n",
    "        target_size=(150, 150),\n",
    "        batch_size=10,\n",
    "        class_mode='binary')\n",
    "\n",
    "history = model.fit(\n",
    "      train_generator,\n",
    "      steps_per_epoch=100,  # 2000 images = batch_size * steps\n",
    "      epochs=50,\n",
    "      validation_data=validation_generator,\n",
    "      validation_steps=50,  # 1000 images = batch_size * steps\n",
    "      verbose=2)"
   ]
  },
  {
   "cell_type": "code",
   "execution_count": 11,
   "metadata": {},
   "outputs": [
    {
     "data": {
      "image/png": "[encoded data removed]",
      "text/plain": [
       "<Figure size 432x288 with 1 Axes>"
      ]
     },
     "metadata": {
      "needs_background": "light"
     },
     "output_type": "display_data"
    },
    {
     "data": {
      "image/png": "[encoded data removed]",
      "text/plain": [
       "<Figure size 432x288 with 1 Axes>"
      ]
     },
     "metadata": {
      "needs_background": "light"
     },
     "output_type": "display_data"
    }
   ],
   "source": [
    "import matplotlib.pyplot as plt\n",
    "acc = history.history['accuracy']\n",
    "val_acc = history.history['val_accuracy']\n",
    "loss = history.history['loss']\n",
    "val_loss = history.history['val_loss']\n",
    "\n",
    "epochs = range(len(acc))\n",
    "\n",
    "plt.plot(epochs, acc, 'bo', label='Training accuracy')\n",
    "plt.plot(epochs, val_acc, 'b', label='Validation accuracy')\n",
    "plt.title('Training and validation accuracy')\n",
    "\n",
    "plt.figure()\n",
    "\n",
    "plt.plot(epochs, loss, 'bo', label='Training Loss')\n",
    "plt.plot(epochs, val_loss, 'b', label='Validation Loss')\n",
    "plt.title('Training and validation loss')\n",
    "plt.legend()\n",
    "\n",
    "plt.show()"
   ]
  },
  {
   "cell_type": "code",
   "execution_count": null,
   "metadata": {},
   "outputs": [],
   "source": []
  }
 ],
 "metadata": {
  "kernelspec": {
   "display_name": "Python 3",
   "language": "python",
   "name": "python3"
  },
  "language_info": {
   "codemirror_mode": {
    "name": "ipython",
    "version": 3
   },
   "file_extension": ".py",
   "mimetype": "text/x-python",
   "name": "python",
   "nbconvert_exporter": "python",
   "pygments_lexer": "ipython3",
   "version": "3.7.4"
  }
 },
 "nbformat": 4,
 "nbformat_minor": 4
}
